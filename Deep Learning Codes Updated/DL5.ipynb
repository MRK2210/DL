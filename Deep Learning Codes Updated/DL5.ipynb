{
 "cells": [
  {
   "cell_type": "raw",
   "id": "9de63bfe-2a07-45ad-81fc-d7404f6c8c40",
   "metadata": {},
   "source": [
    "Aim: To Implement the Continuous Bag of Words (CBOW) Model. Stages can be:\n",
    "a. Data preparation\n",
    "b. Generate training data\n",
    "c. Train model\n",
    "d. Output"
   ]
  },
  {
   "cell_type": "code",
   "execution_count": null,
   "id": "cf352fc2-e3a7-4bd1-bd42-564cd5c036cf",
   "metadata": {},
   "outputs": [],
   "source": [
    "import numpy as np\n",
    "import pandas as pd\n",
    "import tensorflow as tf\n",
    "from tensorflow.keras.models import Sequential\n",
    "from tensorflow.keras.layers import Embedding, Lambda, Dense\n",
    "from tensorflow.keras.preprocessing.text import Tokenizer\n",
    "from tensorflow.keras.preprocessing.sequence import pad_sequences\n",
    "\n",
    "# Sample corpus\n",
    "corpus = [\n",
    "    \"the cat sat on the mat\",\n",
    "    \"the dog sat on the log\",\n",
    "    \"cats and dogs are great pets\",\n",
    "    \"the mat is soft and warm\"\n",
    "]\n",
    "\n",
    "# Preprocess text: Tokenization and lowercasing\n",
    "tokenizer = Tokenizer()\n",
    "tokenizer.fit_on_texts(corpus)\n",
    "total_words = len(tokenizer.word_index) + 1  # +1 for padding\n",
    "\n",
    "# Convert text to sequences\n",
    "sequences = tokenizer.texts_to_sequences(corpus)\n"
   ]
  },
  {
   "cell_type": "code",
   "execution_count": null,
   "id": "1f991c5d-cee7-401f-868c-0b3fd828b0cc",
   "metadata": {},
   "outputs": [],
   "source": [
    "## Stage b: Generate Training Data\n",
    "def generate_training_data(sequences, window_size=2):\n",
    "    contexts = []\n",
    "    targets = []\n",
    "    \n",
    "    for sequence in sequences:\n",
    "        for i in range(window_size, len(sequence) - window_size):\n",
    "            context = sequence[i - window_size:i] + sequence[i + 1:i + window_size + 1]\n",
    "            target = sequence[i]\n",
    "            contexts.append(context)\n",
    "            targets.append(target)\n",
    "    \n",
    "    return np.array(contexts), np.array(targets)\n",
    "\n",
    "X, y = generate_training_data(sequences)\n",
    "\n",
    "X = pad_sequences(X, maxlen=4)  \n"
   ]
  },
  {
   "cell_type": "code",
   "execution_count": null,
   "id": "1db2f7ac-6229-4b0c-a6f6-0d680418d333",
   "metadata": {},
   "outputs": [],
   "source": [
    "## Stage c\n",
    "model = Sequential()\n",
    "model.add(Embedding(input_dim=total_words, output_dim=10, input_length=4))\n",
    "model.add(Lambda(lambda x: tf.reduce_mean(x, axis=1)))  # Average embeddings\n",
    "model.add(Dense(total_words, activation='softmax'))\n",
    "\n",
    "model.compile(loss='sparse_categorical_crossentropy', optimizer='adam', metrics=['accuracy'])\n",
    "\n",
    "model.fit(X, y, epochs=100)\n"
   ]
  },
  {
   "cell_type": "code",
   "execution_count": null,
   "id": "bf3afd3a-f0ca-4bd9-8806-a485496eb5a7",
   "metadata": {},
   "outputs": [],
   "source": [
    "# Get word embeddings from the trained model\n",
    "word_embeddings = model.layers[0].get_weights()[0]\n",
    "\n",
    "# Create a mapping of words to their embeddings\n",
    "word_index = tokenizer.word_index\n",
    "\n",
    "\n",
    "print('Vocabulary Size:', len(word_index))\n",
    "print('Vocabulary Sample:', list(word_index.items())[:10],\"\\n\\n\")\n",
    "\n",
    "\n",
    "embeddings_dict = {word: word_embeddings[idx] for word, idx in word_index.items()}\n",
    "\n",
    "# Output the embeddings for each word in a structured format\n",
    "print(\"{:<10} | {}\".format(\"Word\", \"Embedding\"))\n",
    "print(\"-\" * 40)\n",
    "for word, embedding in embeddings_dict.items():\n",
    "    print(\"{:<10} | {}\".format(word, np.round(embedding, 3)))\n"
   ]
  },
  {
   "cell_type": "code",
   "execution_count": null,
   "id": "3116c614-ef0c-48ee-a50e-cb02387df048",
   "metadata": {},
   "outputs": [],
   "source": []
  }
 ],
 "metadata": {
  "kernelspec": {
   "display_name": "Python 3 (ipykernel)",
   "language": "python",
   "name": "python3"
  },
  "language_info": {
   "codemirror_mode": {
    "name": "ipython",
    "version": 3
   },
   "file_extension": ".py",
   "mimetype": "text/x-python",
   "name": "python",
   "nbconvert_exporter": "python",
   "pygments_lexer": "ipython3",
   "version": "3.12.6"
  }
 },
 "nbformat": 4,
 "nbformat_minor": 5
}
