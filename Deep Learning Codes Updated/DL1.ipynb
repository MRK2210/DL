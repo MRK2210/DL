{
 "cells": [
  {
   "cell_type": "raw",
   "id": "cd2b290b-bb53-4b96-ab29-fe44d2a5f403",
   "metadata": {},
   "source": [
    "Aim: To Study of Deep learning Packages: Tensorflow, Keras, Theano and PyTorch. Document the distinct\n",
    "features and functionality of the packages."
   ]
  },
  {
   "cell_type": "code",
   "execution_count": 13,
   "id": "08828803",
   "metadata": {},
   "outputs": [],
   "source": [
    "import numpy as np"
   ]
  },
  {
   "cell_type": "code",
   "execution_count": null,
   "id": "74f9d504",
   "metadata": {},
   "outputs": [],
   "source": [
    "!pip install tensorflow\n",
    "import tensorflow as tf #Tensorflow"
   ]
  },
  {
   "cell_type": "code",
   "execution_count": 15,
   "id": "b0684087",
   "metadata": {},
   "outputs": [
    {
     "name": "stdout",
     "output_type": "stream",
     "text": [
      "2.14.0\n"
     ]
    }
   ],
   "source": [
    "print(tf.__version__)"
   ]
  },
  {
   "cell_type": "code",
   "execution_count": 16,
   "id": "a2ebda75",
   "metadata": {},
   "outputs": [],
   "source": [
    "#Keras\n",
    "from keras import datasets\n",
    "# Load MNIST datasets from keras\n",
    "(train_images, train_labels), (test_images, test_labels) = datasets.mnist.load_data()"
   ]
  },
  {
   "cell_type": "code",
   "execution_count": 17,
   "id": "eb5e6914",
   "metadata": {},
   "outputs": [
    {
     "data": {
      "text/plain": [
       "(10000, 28, 28)"
      ]
     },
     "execution_count": 17,
     "metadata": {},
     "output_type": "execute_result"
    }
   ],
   "source": [
    "test_images.shape"
   ]
  },
  {
   "cell_type": "code",
   "execution_count": null,
   "id": "67aeabb1",
   "metadata": {},
   "outputs": [],
   "source": [
    "#4. PyTorch\n",
    "!pip3 install torch torchvision torchaudio --extra-index-url https://download.pytorch.org/whl/cu115"
   ]
  },
  {
   "cell_type": "code",
   "execution_count": null,
   "id": "b135e473",
   "metadata": {},
   "outputs": [],
   "source": [
    "pip install --upgrade pip"
   ]
  },
  {
   "cell_type": "code",
   "execution_count": 20,
   "id": "11260257",
   "metadata": {},
   "outputs": [],
   "source": [
    "import torch\n",
    "import torch.nn as nn"
   ]
  },
  {
   "cell_type": "code",
   "execution_count": null,
   "id": "249f2706",
   "metadata": {},
   "outputs": [],
   "source": [
    "print(torch.__version__)"
   ]
  },
  {
   "cell_type": "code",
   "execution_count": null,
   "id": "9e33c6a3",
   "metadata": {},
   "outputs": [],
   "source": [
    "torch.cuda.is_available()"
   ]
  },
  {
   "cell_type": "markdown",
   "id": "c159f252-e503-4166-b399-b48c7e958089",
   "metadata": {},
   "source": [
    "| Feature                | TensorFlow                 | Keras                     | Theano                    | PyTorch                   |\n",
    "|------------------------|---------------------------|---------------------------|---------------------------|---------------------------|\n",
    "| **Interface**          | C++, Python, CUDA         | Python                    | Python                    | Python                    |\n",
    "| **Architecture**       | Complex static graphs     | Simple high-level API     | Static graphs             | Dynamic graphs            |\n",
    "| **Performance**        | High performance           | Depends on backend        | High performance          | Competitive               |\n",
    "| **Learning Curve**     | Steep                     | Easy                      | Moderate                  | Gentle                    |\n",
    "| **Community Support**  | Extensive                 | Growing                   | Limited                   | Increasing                |\n",
    "| **Use Case Suitability**| Large datasets            | Small datasets            | Academic research         | Research and prototyping   |\n"
   ]
  }
 ],
 "metadata": {
  "kernelspec": {
   "display_name": "Python 3 (ipykernel)",
   "language": "python",
   "name": "python3"
  },
  "language_info": {
   "codemirror_mode": {
    "name": "ipython",
    "version": 3
   },
   "file_extension": ".py",
   "mimetype": "text/x-python",
   "name": "python",
   "nbconvert_exporter": "python",
   "pygments_lexer": "ipython3",
   "version": "3.12.6"
  }
 },
 "nbformat": 4,
 "nbformat_minor": 5
}
